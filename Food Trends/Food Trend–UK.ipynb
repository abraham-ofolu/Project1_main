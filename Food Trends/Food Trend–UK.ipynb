{
 "cells": [
  {
   "cell_type": "markdown",
   "id": "4aa77948",
   "metadata": {},
   "source": [
    "# Food Trends - UK"
   ]
  },
  {
   "cell_type": "markdown",
   "id": "1d60e26c",
   "metadata": {},
   "source": [
    "the most common food purchased and consumed by the general UK Population."
   ]
  },
  {
   "cell_type": "code",
   "execution_count": 1,
   "id": "40e9ff81",
   "metadata": {},
   "outputs": [],
   "source": [
    "import pandas as pd\n",
    "import numpy as np\n",
    "import matplotlib.pyplot as plt\n",
    "import scipy.stats as st\n"
   ]
  },
  {
   "cell_type": "code",
   "execution_count": 2,
   "id": "f8146aaa",
   "metadata": {},
   "outputs": [],
   "source": [
    "#DataFrame\n",
    "\n",
    "age_path = \"../Resources/Exp_AGE_201819.csv\"\n",
    "econ_path = \"../Resources/Exp_ECON_201819.csv\"\n",
    "eth_path = \"../Resources/Exp_ETH_201819.csv\"\n",
    "\n",
    "df_age = pd.read_csv(age_path)\n",
    "df_econ = pd.read_csv(econ_path)\n",
    "df_eth = pd.read_csv(eth_path)"
   ]
  },
  {
   "cell_type": "code",
   "execution_count": 3,
   "id": "a9f873b1",
   "metadata": {},
   "outputs": [
    {
     "data": {
      "text/html": [
       "<div>\n",
       "<style scoped>\n",
       "    .dataframe tbody tr th:only-of-type {\n",
       "        vertical-align: middle;\n",
       "    }\n",
       "\n",
       "    .dataframe tbody tr th {\n",
       "        vertical-align: top;\n",
       "    }\n",
       "\n",
       "    .dataframe thead th {\n",
       "        text-align: right;\n",
       "    }\n",
       "</style>\n",
       "<table border=\"1\" class=\"dataframe\">\n",
       "  <thead>\n",
       "    <tr style=\"text-align: right;\">\n",
       "      <th></th>\n",
       "      <th></th>\n",
       "      <th></th>\n",
       "      <th></th>\n",
       "      <th></th>\n",
       "      <th></th>\n",
       "      <th></th>\n",
       "      <th></th>\n",
       "      <th></th>\n",
       "      <th></th>\n",
       "      <th></th>\n",
       "      <th></th>\n",
       "      <th></th>\n",
       "      <th></th>\n",
       "      <th></th>\n",
       "      <th></th>\n",
       "      <th>&lt;&lt;&lt;&lt;&lt;&lt;&lt; HEAD</th>\n",
       "    </tr>\n",
       "  </thead>\n",
       "  <tbody>\n",
       "    <tr>\n",
       "      <th>Survey_Year</th>\n",
       "      <th>hh_categorisation_number</th>\n",
       "      <th>hh_categorisation_description</th>\n",
       "      <th>Food_code</th>\n",
       "      <th>Food_Code_description</th>\n",
       "      <th>ew:Sum(expenditure_*_household_weight)</th>\n",
       "      <th>ew2:Sum(expenditure_squared_*_household_weight_squared)</th>\n",
       "      <th>mw:Sum(members_of_household_*_household_weight)</th>\n",
       "      <th>mw2:(Sum(members_of_household_squared_*_household_weight_squared)</th>\n",
       "      <th>ewmw:Sum(expenditure_*_weighted_number_of_household_members_*_household_weight)</th>\n",
       "      <th>Combined_hh_categorisation_and_food_code</th>\n",
       "      <th>Estimate_of_average_expenditure:0.5*(ew/mw)</th>\n",
       "      <th>calc1:ew2/(ew*ew)</th>\n",
       "      <th>calc2:ewmw/(ew*mw)</th>\n",
       "      <th>calc3:mw2/(mw*mw)</th>\n",
       "      <th>standard_error:estimate_of_average_expenditure_*_(Square_Root(calc1-calc2+calc3)</th>\n",
       "      <td>residual_standard_error:standard_error_*_100/E...</td>\n",
       "    </tr>\n",
       "    <tr>\n",
       "      <th rowspan=\"4\" valign=\"top\">201819</th>\n",
       "      <th rowspan=\"4\" valign=\"top\">1</th>\n",
       "      <th rowspan=\"4\" valign=\"top\">Under 30</th>\n",
       "      <th>402</th>\n",
       "      <th>UHT whole milk</th>\n",
       "      <th>264.1</th>\n",
       "      <th>69748.81</th>\n",
       "      <th>5755.08</th>\n",
       "      <th>274339.0194</th>\n",
       "      <th>1468.396</th>\n",
       "      <th>1_402</th>\n",
       "      <th>0.0229449460302898</th>\n",
       "      <th>1</th>\n",
       "      <th>0.00193220598149809</th>\n",
       "      <th>0.00828294641715785</th>\n",
       "      <th>0.0230176894177585</th>\n",
       "      <td>100.317034467515</td>\n",
       "    </tr>\n",
       "    <tr>\n",
       "      <th>404</th>\n",
       "      <th>Pasteurised or homogenised whole milk</th>\n",
       "      <th>193620.64</th>\n",
       "      <th>1396411458.7858</th>\n",
       "      <th>5755.08</th>\n",
       "      <th>274339.0194</th>\n",
       "      <th>8305294.6657</th>\n",
       "      <th>1_404</th>\n",
       "      <th>16.82171577111</th>\n",
       "      <th>0.0372486126064358</th>\n",
       "      <th>0.0149067176259974</th>\n",
       "      <th>0.00828294641715785</th>\n",
       "      <th>2.94379263717851</th>\n",
       "      <td>17.4999546849688</td>\n",
       "    </tr>\n",
       "    <tr>\n",
       "      <th>901</th>\n",
       "      <th>Condensed or evaporated milk</th>\n",
       "      <th>5211</th>\n",
       "      <th>10096924.905</th>\n",
       "      <th>5755.08</th>\n",
       "      <th>274339.0194</th>\n",
       "      <th>426680.8875</th>\n",
       "      <th>1_901</th>\n",
       "      <th>0.452730457265581</th>\n",
       "      <th>0.371832186065812</th>\n",
       "      <th>0.0284551413452455</th>\n",
       "      <th>0.00828294641715785</th>\n",
       "      <th>0.268473356760451</th>\n",
       "      <td>59.3009267328702</td>\n",
       "    </tr>\n",
       "    <tr>\n",
       "      <th>1102</th>\n",
       "      <th>Infant or baby milks - ready to drink</th>\n",
       "      <th>0</th>\n",
       "      <th>0</th>\n",
       "      <th>5755.08</th>\n",
       "      <th>274339.0194</th>\n",
       "      <th>0</th>\n",
       "      <th>1_1102</th>\n",
       "      <th>0</th>\n",
       "      <th>0</th>\n",
       "      <th>0</th>\n",
       "      <th>0.00828294641715785</th>\n",
       "      <th>0</th>\n",
       "      <td>0</td>\n",
       "    </tr>\n",
       "  </tbody>\n",
       "</table>\n",
       "</div>"
      ],
      "text/plain": [
       "                                                                                                                                                                                                                                                                                                                                                                                                                                                                                                                                                                                                            <<<<<<< HEAD\n",
       "Survey_Year hh_categorisation_number hh_categorisation_description Food_code Food_Code_description                 ew:Sum(expenditure_*_household_weight) ew2:Sum(expenditure_squared_*_household_weight_... mw:Sum(members_of_household_*_household_weight) mw2:(Sum(members_of_household_squared_*_househo... ewmw:Sum(expenditure_*_weighted_number_of_house... Combined_hh_categorisation_and_food_code Estimate_of_average_expenditure:0.5*(ew/mw) calc1:ew2/(ew*ew)  calc2:ewmw/(ew*mw)  calc3:mw2/(mw*mw)   standard_error:estimate_of_average_expenditure_...  residual_standard_error:standard_error_*_100/E...\n",
       "201819      1                        Under 30                      402       UHT whole milk                        264.1                                  69748.81                                           5755.08                                         274339.0194                                        1468.396                                           1_402                                    0.0229449460302898                          1                  0.00193220598149809 0.00828294641715785 0.0230176894177585                                                                   100.317034467515\n",
       "                                                                   404       Pasteurised or homogenised whole milk 193620.64                              1396411458.7858                                    5755.08                                         274339.0194                                        8305294.6657                                       1_404                                    16.82171577111                              0.0372486126064358 0.0149067176259974  0.00828294641715785 2.94379263717851                                                                     17.4999546849688\n",
       "                                                                   901       Condensed or evaporated milk          5211                                   10096924.905                                       5755.08                                         274339.0194                                        426680.8875                                        1_901                                    0.452730457265581                           0.371832186065812  0.0284551413452455  0.00828294641715785 0.268473356760451                                                                    59.3009267328702\n",
       "                                                                   1102      Infant or baby milks - ready to drink 0                                      0                                                  5755.08                                         274339.0194                                        0                                                  1_1102                                   0                                           0                  0                   0.00828294641715785 0                                                                                                   0"
      ]
     },
     "execution_count": 3,
     "metadata": {},
     "output_type": "execute_result"
    }
   ],
   "source": [
    "df_age.head()"
   ]
  },
  {
   "cell_type": "code",
   "execution_count": 4,
   "id": "f14d8f1a",
   "metadata": {},
   "outputs": [
    {
     "ename": "SyntaxError",
     "evalue": "invalid syntax (4068241344.py, line 8)",
     "output_type": "error",
     "traceback": [
      "\u001b[0;36m  Input \u001b[0;32mIn [4]\u001b[0;36m\u001b[0m\n\u001b[0;31m    ewmw:Sum(expenditure_*_weighted_number_of_household_members_*_household_weight)\u001b[0m\n\u001b[0m    ^\u001b[0m\n\u001b[0;31mSyntaxError\u001b[0m\u001b[0;31m:\u001b[0m invalid syntax\n"
     ]
    }
   ],
   "source": [
    "# columns to be cleaned\n",
    "\n",
    "Survey_Year\n",
    "hh_categorisation_number\n",
    "ew2:Sum(expenditure_squared_*_household_weight_squared)\n",
    "mw:Sum(members_of_household_*_household_weight)\n",
    "mw2:(Sum(members_of_household_squared_*_household_weight_squared)\n",
    "ewmw:Sum(expenditure_*_weighted_number_of_household_members_*_household_weight)\n",
    "     \n",
    "     \n",
    "(Sum(members_of_household_squared_*_household_weight_squared)\n",
    "ewmw:Sum(expenditure_*_weighted_number_of_household_members_*_household_weight)\n",
    "Combined_hh_categorisation_and_food_code\n",
    " \n",
    " "
   ]
  },
  {
   "cell_type": "code",
   "execution_count": 5,
   "id": "7317594c",
   "metadata": {},
   "outputs": [
    {
     "ename": "NameError",
     "evalue": "name 'cleandf' is not defined",
     "output_type": "error",
     "traceback": [
      "\u001b[0;31m---------------------------------------------------------------------------\u001b[0m",
      "\u001b[0;31mNameError\u001b[0m                                 Traceback (most recent call last)",
      "Input \u001b[0;32mIn [5]\u001b[0m, in \u001b[0;36m<cell line: 3>\u001b[0;34m()\u001b[0m\n\u001b[1;32m      1\u001b[0m \u001b[38;5;66;03m#1. What is the most popular food by the Age groups - top 5\u001b[39;00m\n\u001b[0;32m----> 3\u001b[0m popular_food_by_age \u001b[38;5;241m=\u001b[39m \u001b[43mcleandf\u001b[49m\u001b[38;5;241m.\u001b[39mgroupby([\u001b[38;5;124m\"\u001b[39m\u001b[38;5;124mFood Group\u001b[39m\u001b[38;5;124m\"\u001b[39m])\u001b[38;5;241m.\u001b[39mcount() [\u001b[38;5;124m\"\u001b[39m\u001b[38;5;124mTotal Amount Consumed\u001b[39m\u001b[38;5;124m\"\u001b[39m]\n\u001b[1;32m      5\u001b[0m plot_pandas \u001b[38;5;241m=\u001b[39m popular_food_by_age\u001b[38;5;241m.\u001b[39mplot\u001b[38;5;241m.\u001b[39mbar(figsize\u001b[38;5;241m=\u001b[39m(\u001b[38;5;241m6\u001b[39m,\u001b[38;5;241m6\u001b[39m), color\u001b[38;5;241m=\u001b[39m\u001b[38;5;124m'\u001b[39m\u001b[38;5;124mb\u001b[39m\u001b[38;5;124m'\u001b[39m,fontsize \u001b[38;5;241m=\u001b[39m \u001b[38;5;241m11\u001b[39m)\n\u001b[1;32m      6\u001b[0m popular_food_by_age\n",
      "\u001b[0;31mNameError\u001b[0m: name 'cleandf' is not defined"
     ]
    }
   ],
   "source": [
    "#1. What is the most popular food by the Age groups - top 5\n",
    "\n",
    "popular_food_by_age = cleandf.groupby([\"Food Group\"]).count() [\"Total Amount Consumed\"]\n",
    "\n",
    "plot_pandas = popular_food_by_age.plot.bar(figsize=(6,6), color='b',fontsize = 11)\n",
    "popular_food_by_age\n",
    "plt.xlabel(\"Food Group\",fontsize = 8)\n",
    "plt.ylabel(\"Total Amount Consumed\",fontsize = 8)\n",
    "plt.title(\"Popular Foods By Age Group\",fontsize = 14)\n",
    "\n",
    "plt.savefig(\"../Images/Popular Foods By Age Group.png\", bbox_inches = \"tight\")\n",
    "plt.tight_layout()\n",
    "plt.show()\n",
    "\n",
    "popular_food_by_age"
   ]
  },
  {
   "cell_type": "code",
   "execution_count": null,
   "id": "9e05770b",
   "metadata": {},
   "outputs": [],
   "source": [
    "#2. What is the most common food purchased by differant ethnic groups"
   ]
  },
  {
   "cell_type": "code",
   "execution_count": null,
   "id": "ab0f9ff6",
   "metadata": {},
   "outputs": [],
   "source": [
    "#3. Food trend by Socio Economic groups (Part time, Full Time, Unemployed, Retired)"
   ]
  },
  {
   "cell_type": "code",
   "execution_count": null,
   "id": "f97e79cf",
   "metadata": {},
   "outputs": [],
   "source": [
    "#4. Food Consumption by Age"
   ]
  },
  {
   "cell_type": "code",
   "execution_count": null,
   "id": "041d5334",
   "metadata": {},
   "outputs": [],
   "source": [
    "#5. Spend on food by Age Group"
   ]
  },
  {
   "cell_type": "code",
   "execution_count": null,
   "id": "9e25ff4a",
   "metadata": {},
   "outputs": [],
   "source": [
    "# Most Purchase Foods across all groups"
   ]
  },
  {
   "cell_type": "code",
   "execution_count": null,
   "id": "4e05b8ee",
   "metadata": {},
   "outputs": [],
   "source": [
    "# Least Purchase Foods across all groups"
   ]
  },
  {
   "cell_type": "code",
   "execution_count": null,
   "id": "d0c72356",
   "metadata": {},
   "outputs": [],
   "source": [
    "#Summaries ..... Most pupalr food group across every single socio economic group"
   ]
  },
  {
   "cell_type": "code",
   "execution_count": null,
   "id": "2dceefd0",
   "metadata": {},
   "outputs": [],
   "source": [
    "cleandf['Total Amount Consumed'] = cleandf.loc[:,sum(axis=1)\n",
    "cleandf['Total Amount Consumed'] = cleandf.sum(numeric_only=True, axis=1)\n",
    "\n",
    "def sum_by_column(frame, new_col_name, list_of_cols_to_sum):\n",
    "    frame[new_col_name] = frame[list_of_cols_to_sum].astype(float).sum(axis=1)\n",
    "    return(frame)\n",
    "                                               \n",
    "sum_by_column(cleandf, 'Total Amount Consumed', ['2001-02','2002-03','2003-04','2004-05',])\n",
    "cleandf.head()\n",
    "                                               "
   ]
  }
 ],
 "metadata": {
  "kernelspec": {
   "display_name": "Python 3 (ipykernel)",
   "language": "python",
   "name": "python3"
  },
  "language_info": {
   "codemirror_mode": {
    "name": "ipython",
    "version": 3
   },
   "file_extension": ".py",
   "mimetype": "text/x-python",
   "name": "python",
   "nbconvert_exporter": "python",
   "pygments_lexer": "ipython3",
   "version": "3.9.12"
  }
 },
 "nbformat": 4,
 "nbformat_minor": 5
}
