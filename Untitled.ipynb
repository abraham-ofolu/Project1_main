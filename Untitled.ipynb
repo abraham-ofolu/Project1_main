{
 "cells": [
  {
   "cell_type": "code",
   "execution_count": 1,
   "id": "2bc4c4eb-c58c-440c-a0b0-76eab87b7078",
   "metadata": {},
   "outputs": [],
   "source": [
    "# Dependencies\n",
    "import pandas as pd\n",
    "import matplotlib.pyplot as plt\n",
    "import scipy.stats as st"
   ]
  },
  {
   "cell_type": "code",
   "execution_count": 2,
   "id": "e68fa348-b47f-4e90-aa57-5d83a87b5a38",
   "metadata": {},
   "outputs": [],
   "source": [
    "# Read in the california housing data set"
   ]
  },
  {
   "cell_type": "code",
   "execution_count": 3,
   "id": "6078657c-8cd8-4dd9-ad7f-35350c042b52",
   "metadata": {},
   "outputs": [],
   "source": [
    "# Determine which measure of central tendency is most appropriate to describe the population"
   ]
  },
  {
   "cell_type": "code",
   "execution_count": 4,
   "id": "efd77083-51d5-430c-bbd8-4cbe8d34e492",
   "metadata": {},
   "outputs": [],
   "source": [
    "# Determine if the house age in california is considered normally distributed"
   ]
  },
  {
   "cell_type": "code",
   "execution_count": 5,
   "id": "b5fd2c58-26f1-4318-ab36-bcd8822b8e33",
   "metadata": {},
   "outputs": [],
   "source": [
    "# Determine if there are any potential outliers in the average occupancy in california"
   ]
  },
  {
   "cell_type": "code",
   "execution_count": 6,
   "id": "25bc91fe-1a1b-427a-8529-604af2868291",
   "metadata": {},
   "outputs": [],
   "source": [
    "# With the potential outliers, what is the lowest and highest median income (in $1000s) observed?"
   ]
  },
  {
   "cell_type": "code",
   "execution_count": null,
   "id": "f200f55a-f761-4184-ba28-a054dd5c6bde",
   "metadata": {},
   "outputs": [],
   "source": [
    "# Bonus - plot the latitude and longitude of the california housing data using Matplotlib, color the data points using the "
   ]
  }
 ],
 "metadata": {
  "kernelspec": {
   "display_name": "Python 3 (ipykernel)",
   "language": "python",
   "name": "python3"
  },
  "language_info": {
   "codemirror_mode": {
    "name": "ipython",
    "version": 3
   },
   "file_extension": ".py",
   "mimetype": "text/x-python",
   "name": "python",
   "nbconvert_exporter": "python",
   "pygments_lexer": "ipython3",
   "version": "3.9.12"
  }
 },
 "nbformat": 4,
 "nbformat_minor": 5
}
